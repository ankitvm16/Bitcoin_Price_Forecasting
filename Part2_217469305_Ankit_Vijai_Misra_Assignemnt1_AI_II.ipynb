{
 "cells": [
  {
   "cell_type": "code",
   "execution_count": 1,
   "metadata": {
    "colab": {},
    "colab_type": "code",
    "id": "hmpMttwcsyMJ"
   },
   "outputs": [
    {
     "name": "stderr",
     "output_type": "stream",
     "text": [
      "Using TensorFlow backend.\n"
     ]
    }
   ],
   "source": [
    "# Importing the libraries\n",
    "import numpy as np \n",
    "import pandas as pd\n",
    "import datetime\n",
    "import matplotlib.pyplot as plt \n",
    "from sklearn.preprocessing import MinMaxScaler\n",
    "from sklearn.metrics import mean_squared_error, mean_absolute_error\n",
    "# Importing the Keras libraries and packages\n",
    "from keras.models import Sequential\n",
    "from keras.layers import Dense\n",
    "from keras.layers import LSTM\n",
    "from keras.layers import Dropout\n",
    "from keras.layers import Activation\n",
    "from keras.models import load_model"
   ]
  },
  {
   "cell_type": "code",
   "execution_count": 2,
   "metadata": {},
   "outputs": [],
   "source": [
    "# Function which takes a CSV file as input from the user and preprocesses the data\n",
    "# to return a numpy array of input to the model (X) and another numpy array of target value (y)\n",
    "\n",
    "def preprocess(CSVfilename):\n",
    "    \n",
    "    filename= CSVfilename+\".csv\"\n",
    "    data = pd.read_csv(filename)\n",
    "    # data pre-processing of the validation dataset\n",
    "    data_pre= pretreat(data)\n",
    "    \n",
    "    # data transformation of the validation dataset\n",
    "    X = np.reshape(data_pre.values, (len(data_pre.values), 1))\n",
    "    y_df= data_pre[1:len(data_pre)]\n",
    "    last=y_df.iloc[-1]\n",
    "    y_df.append(last)\n",
    "    y= y_df.to_numpy()\n",
    "    return(X,y)"
   ]
  },
  {
   "cell_type": "code",
   "execution_count": 3,
   "metadata": {},
   "outputs": [],
   "source": [
    "# Function with the Model architecture which takes 'filename of the model weights', and X\n",
    "# (returned by preprocess() func as the argument and returns a numpy array of predictions.\n",
    "\n",
    "# the model also calculates the 20-point moving average prediction and provides the MSE\n",
    "# of the LSTM forecasting model and 20-point MA model for comparison\n",
    "\n",
    "def model(X, file_weights):\n",
    "    data_valid=pd.DataFrame(X, columns=['close'])\n",
    "    sc = MinMaxScaler()\n",
    "    X = sc.fit_transform(X)\n",
    "    X = np.reshape(X, (len(X), 1, 1))\n",
    "    \n",
    "    # Create LSTM Model : Keras Architecture setup\n",
    "    model = Sequential()\n",
    "    model.add(LSTM(128,activation=\"sigmoid\",input_shape=(1,1)))\n",
    "    model.add(Dropout(0.2))\n",
    "    model.add(Dense(1))\n",
    "    \n",
    "    # Load trained model weights\n",
    "    filename= file_weights+\".h5\"\n",
    "    model.load_weights(filename)\n",
    "    \n",
    "    #LSTM model forecasting of the future values\n",
    "    pred=model.predict(X)\n",
    "    y_pred = sc.inverse_transform(pred)\n",
    "    data_valid['close_prediction'] = pd.DataFrame(y_pred)\n",
    "    \n",
    "    # 20-point moving average model forecasting of the future values\n",
    "    data_valid['close_prediction_ma'] = data_valid['close'].rolling(20).mean()\n",
    "    \n",
    "    # remove the first 20 values of the test dataset for a MSE comparison of LSTM and MA model\n",
    "    data_valid=data_valid[19:]\n",
    "    \n",
    "    # plotting the forecasted and the actual values for comparitive analysis\n",
    "    plt.figure(figsize=[20,8])\n",
    "    plt.title('BTC Actual and Forecasted Closing Price (USD) for the validation dataset')\n",
    "    plot1 = plt.plot(data_valid['close'], label='Actual Price')\n",
    "    plot2 = plt.plot(data_valid['close_prediction_ma'], label='MA Forecasted Price')\n",
    "    plot3 = plt.plot(data_valid['close_prediction'], label='LSTM Forecasted Price')\n",
    "    #plt.legend([plot1,plot2, plot3],[\"Actual Price\", \"MA Forecasted Price\", \"LSTM Forecasted Price\" ])\n",
    "    plt.ylabel(\"Price\")\n",
    "    plt.legend(loc=2, fontsize=\"small\")\n",
    "    plt.xticks([])\n",
    "    #plt.xlabel(\"Dates\")\n",
    "    plt.show()\n",
    "    \n",
    "    #Model Performance: MSE calculation\n",
    "    score_model= mean_squared_error(data_valid['close'], data_valid['close_prediction'])\n",
    "    print(\"MSE for Model using the LSTM model (Forecasting Model): %.2f\" % (score_model))\n",
    "    score_model_ma= mean_squared_error(data_valid['close'], data_valid['close_prediction_ma'])\n",
    "    print(\"MSE for Model using the 20-point moving average (Baseline Model):%.2f\" % (score_model_ma))\n",
    "    \n",
    "    return(y_pred)"
   ]
  },
  {
   "cell_type": "code",
   "execution_count": 4,
   "metadata": {
    "colab": {},
    "colab_type": "code",
    "id": "3zpcOrLRKVQ1"
   },
   "outputs": [],
   "source": [
    "# Function to pre-process the input data\n",
    "def pretreat(data):\n",
    "  # Missing Value Treatment: the OHLC (open high low close) data is a continuous timeseries hence filled with fill forwards values.\n",
    "  data['open'].fillna(method='ffill', inplace=True)\n",
    "  data['high'].fillna(method='ffill', inplace=True)\n",
    "  data['low'].fillna(method='ffill', inplace=True)\n",
    "  data['close'].fillna(method='ffill', inplace=True)\n",
    "    # volume is a single event and hence NA's are replaced with zeroes\n",
    "  data['volume'].fillna(value=0, inplace=True)\n",
    "\n",
    "  # changing to datetime and index assignment to date variable\n",
    "  data['date'] = pd.to_datetime(data['date'])\n",
    "  data = data.groupby([pd.Grouper(key='date', freq='H')]).first().reset_index()\n",
    "  data = data.set_index('date')\n",
    "  data = data[['close']]\n",
    "  return(data)"
   ]
  },
  {
   "cell_type": "code",
   "execution_count": 5,
   "metadata": {
    "colab": {},
    "colab_type": "code",
    "id": "Ns3HxGmZsyNA"
   },
   "outputs": [],
   "source": [
    "# Data Transformation: Function for min max tranform of the data\n",
    "def minmaxtrans(data):\n",
    "  dataset = np.reshape(data.values, (len(data.values), 1))\n",
    "  sc = MinMaxScaler()\n",
    "  dataset = sc.fit_transform(dataset) \n",
    "  return(dataset)"
   ]
  },
  {
   "cell_type": "code",
   "execution_count": 6,
   "metadata": {},
   "outputs": [
    {
     "name": "stdout",
     "output_type": "stream",
     "text": [
      "This is a Bitcoin Forecasting Model\n",
      "The model predicts the hourly closing price\n",
      "Please specify the filename containing the OHLC-Vol data with hourly timestamp\n",
      "Enter the Validation dataset CSV file name : BTCUSD_hourly_data\n"
     ]
    },
    {
     "ename": "ValueError",
     "evalue": "DataFrame constructor not properly called!",
     "output_type": "error",
     "traceback": [
      "\u001b[1;31m---------------------------------------------------------------------------\u001b[0m",
      "\u001b[1;31mValueError\u001b[0m                                Traceback (most recent call last)",
      "\u001b[1;32m<ipython-input-6-5c3d0c9b2715>\u001b[0m in \u001b[0;36m<module>\u001b[1;34m\u001b[0m\n\u001b[0;32m     10\u001b[0m \u001b[0mfile_weights\u001b[0m \u001b[1;33m=\u001b[0m \u001b[1;34m\"forecast_weights\"\u001b[0m\u001b[1;33m\u001b[0m\u001b[1;33m\u001b[0m\u001b[0m\n\u001b[0;32m     11\u001b[0m \u001b[0mX\u001b[0m\u001b[1;33m,\u001b[0m \u001b[0my\u001b[0m \u001b[1;33m=\u001b[0m \u001b[0mpreprocess\u001b[0m\u001b[1;33m(\u001b[0m\u001b[0mCSVfilename\u001b[0m\u001b[1;33m)\u001b[0m\u001b[1;33m\u001b[0m\u001b[1;33m\u001b[0m\u001b[0m\n\u001b[1;32m---> 12\u001b[1;33m \u001b[0my_pred\u001b[0m \u001b[1;33m=\u001b[0m \u001b[0mmodel\u001b[0m\u001b[1;33m(\u001b[0m\u001b[0mfile_weights\u001b[0m\u001b[1;33m,\u001b[0m \u001b[0mX\u001b[0m\u001b[1;33m)\u001b[0m\u001b[1;33m\u001b[0m\u001b[1;33m\u001b[0m\u001b[0m\n\u001b[0m\u001b[0;32m     13\u001b[0m \u001b[0mprint\u001b[0m \u001b[1;33m(\u001b[0m\u001b[1;34m\"The forecasted closing price of BTC for the next hour is %.2f\"\u001b[0m \u001b[1;33m%\u001b[0m \u001b[1;33m(\u001b[0m\u001b[0my_pred\u001b[0m\u001b[1;33m[\u001b[0m\u001b[1;33m-\u001b[0m\u001b[1;36m1\u001b[0m\u001b[1;33m]\u001b[0m\u001b[1;33m)\u001b[0m\u001b[1;33m)\u001b[0m\u001b[1;33m\u001b[0m\u001b[1;33m\u001b[0m\u001b[0m\n",
      "\u001b[1;32m<ipython-input-3-26bbc7fd6ff0>\u001b[0m in \u001b[0;36mmodel\u001b[1;34m(X, file_weights)\u001b[0m\n\u001b[0;32m      6\u001b[0m \u001b[1;33m\u001b[0m\u001b[0m\n\u001b[0;32m      7\u001b[0m \u001b[1;32mdef\u001b[0m \u001b[0mmodel\u001b[0m\u001b[1;33m(\u001b[0m\u001b[0mX\u001b[0m\u001b[1;33m,\u001b[0m \u001b[0mfile_weights\u001b[0m\u001b[1;33m)\u001b[0m\u001b[1;33m:\u001b[0m\u001b[1;33m\u001b[0m\u001b[1;33m\u001b[0m\u001b[0m\n\u001b[1;32m----> 8\u001b[1;33m     \u001b[0mdata_valid\u001b[0m\u001b[1;33m=\u001b[0m\u001b[0mpd\u001b[0m\u001b[1;33m.\u001b[0m\u001b[0mDataFrame\u001b[0m\u001b[1;33m(\u001b[0m\u001b[0mX\u001b[0m\u001b[1;33m,\u001b[0m \u001b[0mcolumns\u001b[0m\u001b[1;33m=\u001b[0m\u001b[1;33m[\u001b[0m\u001b[1;34m'close'\u001b[0m\u001b[1;33m]\u001b[0m\u001b[1;33m)\u001b[0m\u001b[1;33m\u001b[0m\u001b[1;33m\u001b[0m\u001b[0m\n\u001b[0m\u001b[0;32m      9\u001b[0m     \u001b[0msc\u001b[0m \u001b[1;33m=\u001b[0m \u001b[0mMinMaxScaler\u001b[0m\u001b[1;33m(\u001b[0m\u001b[1;33m)\u001b[0m\u001b[1;33m\u001b[0m\u001b[1;33m\u001b[0m\u001b[0m\n\u001b[0;32m     10\u001b[0m     \u001b[0mX\u001b[0m \u001b[1;33m=\u001b[0m \u001b[0msc\u001b[0m\u001b[1;33m.\u001b[0m\u001b[0mfit_transform\u001b[0m\u001b[1;33m(\u001b[0m\u001b[0mX\u001b[0m\u001b[1;33m)\u001b[0m\u001b[1;33m\u001b[0m\u001b[1;33m\u001b[0m\u001b[0m\n",
      "\u001b[1;32m~\\Documents\\Anaconda\\lib\\site-packages\\pandas\\core\\frame.py\u001b[0m in \u001b[0;36m__init__\u001b[1;34m(self, data, index, columns, dtype, copy)\u001b[0m\n\u001b[0;32m    466\u001b[0m                                    dtype=values.dtype, copy=False)\n\u001b[0;32m    467\u001b[0m             \u001b[1;32melse\u001b[0m\u001b[1;33m:\u001b[0m\u001b[1;33m\u001b[0m\u001b[1;33m\u001b[0m\u001b[0m\n\u001b[1;32m--> 468\u001b[1;33m                 \u001b[1;32mraise\u001b[0m \u001b[0mValueError\u001b[0m\u001b[1;33m(\u001b[0m\u001b[1;34m'DataFrame constructor not properly called!'\u001b[0m\u001b[1;33m)\u001b[0m\u001b[1;33m\u001b[0m\u001b[1;33m\u001b[0m\u001b[0m\n\u001b[0m\u001b[0;32m    469\u001b[0m \u001b[1;33m\u001b[0m\u001b[0m\n\u001b[0;32m    470\u001b[0m         \u001b[0mNDFrame\u001b[0m\u001b[1;33m.\u001b[0m\u001b[0m__init__\u001b[0m\u001b[1;33m(\u001b[0m\u001b[0mself\u001b[0m\u001b[1;33m,\u001b[0m \u001b[0mmgr\u001b[0m\u001b[1;33m,\u001b[0m \u001b[0mfastpath\u001b[0m\u001b[1;33m=\u001b[0m\u001b[1;32mTrue\u001b[0m\u001b[1;33m)\u001b[0m\u001b[1;33m\u001b[0m\u001b[1;33m\u001b[0m\u001b[0m\n",
      "\u001b[1;31mValueError\u001b[0m: DataFrame constructor not properly called!"
     ]
    }
   ],
   "source": [
    "# Main script to call the requisite functions\n",
    "# Takes user input for the following:\n",
    "# a) Validation dataset CSV file name\n",
    "# b) model weights filename\n",
    "print(\"This is a Bitcoin Forecasting Model\")\n",
    "print(\"The model predicts the hourly closing price\")\n",
    "print(\"Please specify the filename containing the OHLC-Vol data with hourly timestamp\")\n",
    "CSVfilename = input(\"Enter the Validation dataset CSV file name : \")\n",
    "#file_weights = input(\"Input the model weights filename: \")\n",
    "file_weights = \"forecast_weights\"\n",
    "X, y = preprocess(CSVfilename)\n",
    "y_pred = model(file_weights, X)\n",
    "print (\"The forecasted closing price of BTC for the next hour is %.2f\" % (y_pred[-1]))"
   ]
  },
  {
   "cell_type": "code",
   "execution_count": null,
   "metadata": {},
   "outputs": [],
   "source": []
  }
 ],
 "metadata": {
  "accelerator": "TPU",
  "colab": {
   "collapsed_sections": [],
   "name": "Part2_217469305_Ankit_Vijai_Misra_Assignemnt1_AI_II.ipynb",
   "provenance": []
  },
  "kernelspec": {
   "display_name": "Python 3",
   "language": "python",
   "name": "python3"
  },
  "language_info": {
   "codemirror_mode": {
    "name": "ipython",
    "version": 3
   },
   "file_extension": ".py",
   "mimetype": "text/x-python",
   "name": "python",
   "nbconvert_exporter": "python",
   "pygments_lexer": "ipython3",
   "version": "3.7.3"
  }
 },
 "nbformat": 4,
 "nbformat_minor": 1
}
