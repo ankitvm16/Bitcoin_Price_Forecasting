{
 "cells": [
  {
   "cell_type": "code",
   "execution_count": 22,
   "metadata": {},
   "outputs": [],
   "source": [
    "import numpy as np # linear algebra\n",
    "import pandas as pd # data processing, CSV file I/O (e.g. pd.read_csv)\n",
    "import matplotlib.pyplot as plt \n",
    "\n",
    "# Input data files are available in the \"../input/\" directory.\n",
    "# For example, running this (by clicking run or pressing Shift+Enter) will list the files in the input directory\n",
    "from plotly import tools\n",
    "import gc\n",
    "import matplotlib.pyplot as plt\n",
    "import seaborn as sns\n",
    "\n",
    "#import os\n",
    "#print(os.listdir(\"../input\"))\n",
    "from subprocess import check_output\n",
    "\n",
    "from scipy import stats\n",
    "import statsmodels.api as sm\n",
    "import warnings\n",
    "from itertools import product"
   ]
  },
  {
   "cell_type": "code",
   "execution_count": 52,
   "metadata": {},
   "outputs": [],
   "source": [
    "#load the dataset \n",
    "data = pd.read_csv('BTCUSD_hourly_data.csv')"
   ]
  },
  {
   "cell_type": "code",
   "execution_count": 53,
   "metadata": {},
   "outputs": [
    {
     "data": {
      "text/html": [
       "<div>\n",
       "<style scoped>\n",
       "    .dataframe tbody tr th:only-of-type {\n",
       "        vertical-align: middle;\n",
       "    }\n",
       "\n",
       "    .dataframe tbody tr th {\n",
       "        vertical-align: top;\n",
       "    }\n",
       "\n",
       "    .dataframe thead th {\n",
       "        text-align: right;\n",
       "    }\n",
       "</style>\n",
       "<table border=\"1\" class=\"dataframe\">\n",
       "  <thead>\n",
       "    <tr style=\"text-align: right;\">\n",
       "      <th></th>\n",
       "      <th>date</th>\n",
       "      <th>open</th>\n",
       "      <th>high</th>\n",
       "      <th>low</th>\n",
       "      <th>close</th>\n",
       "      <th>volume</th>\n",
       "    </tr>\n",
       "  </thead>\n",
       "  <tbody>\n",
       "    <tr>\n",
       "      <th>0</th>\n",
       "      <td>2011-09-13 13:00:00</td>\n",
       "      <td>5.80</td>\n",
       "      <td>6.00</td>\n",
       "      <td>5.80</td>\n",
       "      <td>6.00</td>\n",
       "      <td>25.000000</td>\n",
       "    </tr>\n",
       "    <tr>\n",
       "      <th>1</th>\n",
       "      <td>2011-09-13 14:00:00</td>\n",
       "      <td>5.95</td>\n",
       "      <td>5.95</td>\n",
       "      <td>5.76</td>\n",
       "      <td>5.76</td>\n",
       "      <td>22.353982</td>\n",
       "    </tr>\n",
       "    <tr>\n",
       "      <th>2</th>\n",
       "      <td>2011-09-13 15:00:00</td>\n",
       "      <td>5.65</td>\n",
       "      <td>5.65</td>\n",
       "      <td>5.65</td>\n",
       "      <td>5.65</td>\n",
       "      <td>2.542000</td>\n",
       "    </tr>\n",
       "    <tr>\n",
       "      <th>3</th>\n",
       "      <td>2011-09-13 16:00:00</td>\n",
       "      <td>NaN</td>\n",
       "      <td>NaN</td>\n",
       "      <td>NaN</td>\n",
       "      <td>NaN</td>\n",
       "      <td>0.000000</td>\n",
       "    </tr>\n",
       "    <tr>\n",
       "      <th>4</th>\n",
       "      <td>2011-09-13 17:00:00</td>\n",
       "      <td>NaN</td>\n",
       "      <td>NaN</td>\n",
       "      <td>NaN</td>\n",
       "      <td>NaN</td>\n",
       "      <td>0.000000</td>\n",
       "    </tr>\n",
       "  </tbody>\n",
       "</table>\n",
       "</div>"
      ],
      "text/plain": [
       "                  date  open  high   low  close     volume\n",
       "0  2011-09-13 13:00:00  5.80  6.00  5.80   6.00  25.000000\n",
       "1  2011-09-13 14:00:00  5.95  5.95  5.76   5.76  22.353982\n",
       "2  2011-09-13 15:00:00  5.65  5.65  5.65   5.65   2.542000\n",
       "3  2011-09-13 16:00:00   NaN   NaN   NaN    NaN   0.000000\n",
       "4  2011-09-13 17:00:00   NaN   NaN   NaN    NaN   0.000000"
      ]
     },
     "execution_count": 53,
     "metadata": {},
     "output_type": "execute_result"
    }
   ],
   "source": [
    "data.head()"
   ]
  },
  {
   "cell_type": "code",
   "execution_count": 54,
   "metadata": {},
   "outputs": [
    {
     "data": {
      "text/html": [
       "<div>\n",
       "<style scoped>\n",
       "    .dataframe tbody tr th:only-of-type {\n",
       "        vertical-align: middle;\n",
       "    }\n",
       "\n",
       "    .dataframe tbody tr th {\n",
       "        vertical-align: top;\n",
       "    }\n",
       "\n",
       "    .dataframe thead th {\n",
       "        text-align: right;\n",
       "    }\n",
       "</style>\n",
       "<table border=\"1\" class=\"dataframe\">\n",
       "  <thead>\n",
       "    <tr style=\"text-align: right;\">\n",
       "      <th></th>\n",
       "      <th>date</th>\n",
       "      <th>open</th>\n",
       "      <th>high</th>\n",
       "      <th>low</th>\n",
       "      <th>close</th>\n",
       "      <th>volume</th>\n",
       "    </tr>\n",
       "  </thead>\n",
       "  <tbody>\n",
       "    <tr>\n",
       "      <th>0</th>\n",
       "      <td>2011-09-13 13:00:00</td>\n",
       "      <td>5.80</td>\n",
       "      <td>6.00</td>\n",
       "      <td>5.80</td>\n",
       "      <td>6.00</td>\n",
       "      <td>25.000000</td>\n",
       "    </tr>\n",
       "    <tr>\n",
       "      <th>1</th>\n",
       "      <td>2011-09-13 14:00:00</td>\n",
       "      <td>5.95</td>\n",
       "      <td>5.95</td>\n",
       "      <td>5.76</td>\n",
       "      <td>5.76</td>\n",
       "      <td>22.353982</td>\n",
       "    </tr>\n",
       "    <tr>\n",
       "      <th>2</th>\n",
       "      <td>2011-09-13 15:00:00</td>\n",
       "      <td>5.65</td>\n",
       "      <td>5.65</td>\n",
       "      <td>5.65</td>\n",
       "      <td>5.65</td>\n",
       "      <td>2.542000</td>\n",
       "    </tr>\n",
       "    <tr>\n",
       "      <th>3</th>\n",
       "      <td>2011-09-13 16:00:00</td>\n",
       "      <td>5.65</td>\n",
       "      <td>5.65</td>\n",
       "      <td>5.65</td>\n",
       "      <td>5.65</td>\n",
       "      <td>0.000000</td>\n",
       "    </tr>\n",
       "    <tr>\n",
       "      <th>4</th>\n",
       "      <td>2011-09-13 17:00:00</td>\n",
       "      <td>5.65</td>\n",
       "      <td>5.65</td>\n",
       "      <td>5.65</td>\n",
       "      <td>5.65</td>\n",
       "      <td>0.000000</td>\n",
       "    </tr>\n",
       "  </tbody>\n",
       "</table>\n",
       "</div>"
      ],
      "text/plain": [
       "                  date  open  high   low  close     volume\n",
       "0  2011-09-13 13:00:00  5.80  6.00  5.80   6.00  25.000000\n",
       "1  2011-09-13 14:00:00  5.95  5.95  5.76   5.76  22.353982\n",
       "2  2011-09-13 15:00:00  5.65  5.65  5.65   5.65   2.542000\n",
       "3  2011-09-13 16:00:00  5.65  5.65  5.65   5.65   0.000000\n",
       "4  2011-09-13 17:00:00  5.65  5.65  5.65   5.65   0.000000"
      ]
     },
     "execution_count": 54,
     "metadata": {},
     "output_type": "execute_result"
    }
   ],
   "source": [
    "# Missing Value Treatment: the OHLC (open high low close) data is a continuous timeseries hence filled\n",
    "# with fill forwards values.\n",
    "data['open'].fillna(method='ffill', inplace=True)\n",
    "data['high'].fillna(method='ffill', inplace=True)\n",
    "data['low'].fillna(method='ffill', inplace=True)\n",
    "data['close'].fillna(method='ffill', inplace=True)\n",
    "# volume is a single event and hence NA's are replaced with zeroes\n",
    "data['volume'].fillna(value=0, inplace=True)"
   ]
  },
  {
   "cell_type": "code",
   "execution_count": 34,
   "metadata": {},
   "outputs": [
    {
     "data": {
      "text/plain": [
       "[<matplotlib.lines.Line2D at 0x221d9df2cf8>]"
      ]
     },
     "execution_count": 34,
     "metadata": {},
     "output_type": "execute_result"
    },
    {
     "data": {
      "image/png": "[encoded data removed]",
      "text/plain": [
       "<Figure size 1440x576 with 1 Axes>"
      ]
     },
     "metadata": {
      "needs_background": "light"
     },
     "output_type": "display_data"
    }
   ],
   "source": [
    "plt.figure(figsize=[20,8])\n",
    "plt.title('BTC Closing Price (USD) by Hours')\n",
    "plt.plot(data.close, '-', label='By Hours')"
   ]
  },
  {
   "cell_type": "code",
   "execution_count": 55,
   "metadata": {},
   "outputs": [],
   "source": [
    "import datetime, pytz\n",
    "#define a conversion function for the native timestamps in the csv file\n",
    "def dateparse (time_in_secs):    \n",
    "    return pytz.utc.localize(datetime.datetime.fromtimestamp(float(time_in_secs)))"
   ]
  },
  {
   "cell_type": "code",
   "execution_count": 58,
   "metadata": {},
   "outputs": [
    {
     "name": "stdout",
     "output_type": "stream",
     "text": [
      "<class 'pandas.core.frame.DataFrame'>\n",
      "RangeIndex: 71086 entries, 0 to 71085\n",
      "Data columns (total 6 columns):\n",
      "date      71086 non-null datetime64[ns]\n",
      "open      71086 non-null float64\n",
      "high      71086 non-null float64\n",
      "low       71086 non-null float64\n",
      "close     71086 non-null float64\n",
      "volume    71086 non-null float64\n",
      "dtypes: datetime64[ns](1), float64(5)\n",
      "memory usage: 3.3 MB\n"
     ]
    }
   ],
   "source": [
    "data.info()"
   ]
  },
  {
   "cell_type": "code",
   "execution_count": 57,
   "metadata": {},
   "outputs": [],
   "source": [
    "data['date'] = pd.to_datetime(data['date'])"
   ]
  },
  {
   "cell_type": "code",
   "execution_count": 59,
   "metadata": {},
   "outputs": [],
   "source": [
    "data['date'] = data['date'].dt.tz_localize(None)\n",
    "data = data.groupby([pd.Grouper(key='date', freq='H')]).first().reset_index()\n",
    "data = data.set_index('date')"
   ]
  },
  {
   "cell_type": "code",
   "execution_count": 64,
   "metadata": {},
   "outputs": [],
   "source": [
    "# split data\n",
    "split_date = '25-Jun-2018'\n",
    "data_train = data.loc[data.index <= split_date].copy()\n",
    "data_test = data.loc[data.index > split_date].copy()"
   ]
  },
  {
   "cell_type": "code",
   "execution_count": 62,
   "metadata": {},
   "outputs": [],
   "source": [
    "data = data[['close']]"
   ]
  },
  {
   "cell_type": "code",
   "execution_count": 66,
   "metadata": {},
   "outputs": [],
   "source": [
    "# Data preprocess\n",
    "training_set = data_train.values\n",
    "training_set = np.reshape(training_set, (len(training_set), 1))\n",
    "from sklearn.preprocessing import MinMaxScaler\n",
    "sc = MinMaxScaler()\n",
    "training_set = sc.fit_transform(training_set)\n",
    "X_train = training_set[0:len(training_set)-1]\n",
    "y_train = training_set[1:len(training_set)]\n",
    "X_train = np.reshape(X_train, (len(X_train), 1, 1))"
   ]
  },
  {
   "cell_type": "code",
   "execution_count": 67,
   "metadata": {},
   "outputs": [
    {
     "data": {
      "text/html": [
       "<div>\n",
       "<style scoped>\n",
       "    .dataframe tbody tr th:only-of-type {\n",
       "        vertical-align: middle;\n",
       "    }\n",
       "\n",
       "    .dataframe tbody tr th {\n",
       "        vertical-align: top;\n",
       "    }\n",
       "\n",
       "    .dataframe thead th {\n",
       "        text-align: right;\n",
       "    }\n",
       "</style>\n",
       "<table border=\"1\" class=\"dataframe\">\n",
       "  <thead>\n",
       "    <tr style=\"text-align: right;\">\n",
       "      <th></th>\n",
       "      <th>close</th>\n",
       "    </tr>\n",
       "    <tr>\n",
       "      <th>date</th>\n",
       "      <th></th>\n",
       "    </tr>\n",
       "  </thead>\n",
       "  <tbody>\n",
       "    <tr>\n",
       "      <th>2011-09-13 13:00:00</th>\n",
       "      <td>6.00</td>\n",
       "    </tr>\n",
       "    <tr>\n",
       "      <th>2011-09-13 14:00:00</th>\n",
       "      <td>5.76</td>\n",
       "    </tr>\n",
       "    <tr>\n",
       "      <th>2011-09-13 15:00:00</th>\n",
       "      <td>5.65</td>\n",
       "    </tr>\n",
       "    <tr>\n",
       "      <th>2011-09-13 16:00:00</th>\n",
       "      <td>5.65</td>\n",
       "    </tr>\n",
       "    <tr>\n",
       "      <th>2011-09-13 17:00:00</th>\n",
       "      <td>5.65</td>\n",
       "    </tr>\n",
       "  </tbody>\n",
       "</table>\n",
       "</div>"
      ],
      "text/plain": [
       "                     close\n",
       "date                      \n",
       "2011-09-13 13:00:00   6.00\n",
       "2011-09-13 14:00:00   5.76\n",
       "2011-09-13 15:00:00   5.65\n",
       "2011-09-13 16:00:00   5.65\n",
       "2011-09-13 17:00:00   5.65"
      ]
     },
     "execution_count": 67,
     "metadata": {},
     "output_type": "execute_result"
    }
   ],
   "source": [
    "data.head()"
   ]
  },
  {
   "cell_type": "code",
   "execution_count": 68,
   "metadata": {},
   "outputs": [
    {
     "name": "stderr",
     "output_type": "stream",
     "text": [
      "Using TensorFlow backend.\n"
     ]
    }
   ],
   "source": [
    "# Importing the Keras libraries and packages\n",
    "from keras.models import Sequential\n",
    "from keras.layers import Dense\n",
    "from keras.layers import LSTM\n",
    "from keras.layers import Dropout\n",
    "from keras.layers import Activation"
   ]
  },
  {
   "cell_type": "code",
   "execution_count": 69,
   "metadata": {},
   "outputs": [
    {
     "name": "stdout",
     "output_type": "stream",
     "text": [
      "WARNING:tensorflow:From C:\\Users\\Ankit Misra\\Documents\\Anaconda\\lib\\site-packages\\tensorflow_core\\python\\ops\\resource_variable_ops.py:1630: calling BaseResourceVariable.__init__ (from tensorflow.python.ops.resource_variable_ops) with constraint is deprecated and will be removed in a future version.\n",
      "Instructions for updating:\n",
      "If using Keras pass *_constraint arguments to layers.\n",
      "WARNING:tensorflow:From C:\\Users\\Ankit Misra\\Documents\\Anaconda\\lib\\site-packages\\keras\\backend\\tensorflow_backend.py:422: The name tf.global_variables is deprecated. Please use tf.compat.v1.global_variables instead.\n",
      "\n",
      "Epoch 1/100\n",
      " - 10s - loss: 0.0203\n",
      "Epoch 2/100\n",
      " - 8s - loss: 0.0051\n",
      "Epoch 3/100\n",
      " - 9s - loss: 0.0028\n",
      "Epoch 4/100\n",
      " - 7s - loss: 0.0019\n",
      "Epoch 5/100\n",
      " - 9s - loss: 0.0014\n",
      "Epoch 6/100\n",
      " - 8s - loss: 0.0010\n",
      "Epoch 7/100\n",
      " - 7s - loss: 8.0849e-04\n",
      "Epoch 8/100\n",
      " - 7s - loss: 6.7141e-04\n",
      "Epoch 9/100\n",
      " - 9s - loss: 5.7232e-04\n",
      "Epoch 10/100\n",
      " - 8s - loss: 5.0119e-04\n",
      "Epoch 11/100\n",
      " - 9s - loss: 4.3249e-04\n",
      "Epoch 12/100\n",
      " - 8s - loss: 3.8775e-04\n",
      "Epoch 13/100\n",
      " - 9s - loss: 3.4874e-04\n",
      "Epoch 14/100\n",
      " - 7s - loss: 3.2708e-04\n",
      "Epoch 15/100\n",
      " - 9s - loss: 2.9879e-04\n",
      "Epoch 16/100\n",
      " - 7s - loss: 2.8158e-04\n",
      "Epoch 17/100\n",
      " - 10s - loss: 2.6893e-04\n",
      "Epoch 18/100\n",
      " - 8s - loss: 2.5642e-04\n",
      "Epoch 19/100\n",
      " - 10s - loss: 2.4565e-04\n",
      "Epoch 20/100\n",
      " - 10s - loss: 2.4078e-04\n",
      "Epoch 21/100\n",
      " - 9s - loss: 2.3337e-04\n",
      "Epoch 22/100\n",
      " - 9s - loss: 2.3104e-04\n",
      "Epoch 23/100\n",
      " - 10s - loss: 2.2432e-04\n",
      "Epoch 24/100\n",
      " - 9s - loss: 2.1928e-04\n",
      "Epoch 25/100\n",
      " - 10s - loss: 2.1603e-04\n",
      "Epoch 26/100\n",
      " - 8s - loss: 2.1042e-04\n",
      "Epoch 27/100\n",
      " - 7s - loss: 2.1733e-04\n",
      "Epoch 28/100\n",
      " - 8s - loss: 2.0835e-04\n",
      "Epoch 29/100\n",
      " - 9s - loss: 2.0340e-04\n",
      "Epoch 30/100\n",
      " - 9s - loss: 2.0807e-04\n",
      "Epoch 31/100\n",
      " - 8s - loss: 2.1201e-04\n",
      "Epoch 32/100\n",
      " - 8s - loss: 2.0714e-04\n",
      "Epoch 33/100\n",
      " - 7s - loss: 2.0925e-04\n",
      "Epoch 34/100\n",
      " - 11s - loss: 2.0429e-04\n",
      "Epoch 35/100\n",
      " - 9s - loss: 2.0355e-04\n",
      "Epoch 36/100\n",
      " - 11s - loss: 2.0087e-04\n",
      "Epoch 37/100\n",
      " - 8s - loss: 2.0634e-04\n",
      "Epoch 38/100\n",
      " - 8s - loss: 1.9684e-04\n",
      "Epoch 39/100\n",
      " - 8s - loss: 2.0478e-04\n",
      "Epoch 40/100\n",
      " - 8s - loss: 2.0333e-04\n",
      "Epoch 41/100\n",
      " - 9s - loss: 1.9967e-04\n",
      "Epoch 42/100\n",
      " - 9s - loss: 2.0443e-04\n",
      "Epoch 43/100\n",
      " - 9s - loss: 1.9864e-04\n",
      "Epoch 44/100\n",
      " - 9s - loss: 2.0167e-04\n",
      "Epoch 45/100\n",
      " - 12s - loss: 1.9870e-04\n",
      "Epoch 46/100\n",
      " - 11s - loss: 1.9630e-04\n",
      "Epoch 47/100\n",
      " - 9s - loss: 1.9608e-04\n",
      "Epoch 48/100\n",
      " - 9s - loss: 1.9512e-04\n",
      "Epoch 49/100\n",
      " - 12s - loss: 1.9622e-04\n",
      "Epoch 50/100\n",
      " - 10s - loss: 1.9616e-04\n",
      "Epoch 51/100\n",
      " - 8s - loss: 1.9482e-04\n",
      "Epoch 52/100\n",
      " - 9s - loss: 1.9805e-04\n",
      "Epoch 53/100\n",
      " - 8s - loss: 1.9622e-04\n",
      "Epoch 54/100\n",
      " - 8s - loss: 1.8735e-04\n",
      "Epoch 55/100\n",
      " - 10s - loss: 1.9085e-04\n",
      "Epoch 56/100\n",
      " - 9s - loss: 1.9304e-04\n",
      "Epoch 57/100\n",
      " - 9s - loss: 1.9380e-04\n",
      "Epoch 58/100\n",
      " - 7s - loss: 1.8645e-04\n",
      "Epoch 59/100\n",
      " - 9s - loss: 1.9501e-04\n",
      "Epoch 60/100\n",
      " - 12s - loss: 1.9129e-04\n",
      "Epoch 61/100\n",
      " - 12s - loss: 1.8839e-04\n",
      "Epoch 62/100\n",
      " - 12s - loss: 1.8240e-04\n",
      "Epoch 63/100\n",
      " - 9s - loss: 1.8828e-04\n",
      "Epoch 64/100\n",
      " - 8s - loss: 1.8849e-04\n",
      "Epoch 65/100\n",
      " - 11s - loss: 1.8105e-04\n",
      "Epoch 66/100\n",
      " - 8s - loss: 1.8497e-04\n",
      "Epoch 67/100\n",
      " - 6s - loss: 1.8064e-04\n",
      "Epoch 68/100\n",
      " - 10s - loss: 1.7709e-04\n",
      "Epoch 69/100\n",
      " - 8s - loss: 1.8129e-04\n",
      "Epoch 70/100\n",
      " - 8s - loss: 1.7851e-04\n",
      "Epoch 71/100\n",
      " - 7s - loss: 1.7562e-04\n",
      "Epoch 72/100\n",
      " - 10s - loss: 1.7940e-04\n",
      "Epoch 73/100\n",
      " - 9s - loss: 1.7341e-04\n",
      "Epoch 74/100\n",
      " - 8s - loss: 1.7876e-04\n",
      "Epoch 75/100\n",
      " - 8s - loss: 1.7657e-04\n",
      "Epoch 76/100\n",
      " - 8s - loss: 1.7231e-04\n",
      "Epoch 77/100\n",
      " - 9s - loss: 1.7063e-04\n",
      "Epoch 78/100\n",
      " - 10s - loss: 1.7394e-04\n",
      "Epoch 79/100\n",
      " - 8s - loss: 1.7031e-04\n",
      "Epoch 80/100\n",
      " - 8s - loss: 1.7463e-04\n",
      "Epoch 81/100\n",
      " - 8s - loss: 1.7986e-04\n",
      "Epoch 82/100\n",
      " - 7s - loss: 1.6688e-04\n",
      "Epoch 83/100\n",
      " - 8s - loss: 1.6860e-04\n",
      "Epoch 84/100\n",
      " - 10s - loss: 1.6845e-04\n",
      "Epoch 85/100\n",
      " - 9s - loss: 1.6905e-04\n",
      "Epoch 86/100\n",
      " - 8s - loss: 1.6825e-04\n",
      "Epoch 87/100\n",
      " - 7s - loss: 1.7521e-04\n",
      "Epoch 88/100\n",
      " - 7s - loss: 1.5803e-04\n",
      "Epoch 89/100\n",
      " - 10s - loss: 1.6054e-04\n",
      "Epoch 90/100\n",
      " - 10s - loss: 1.6603e-04\n",
      "Epoch 91/100\n",
      " - 8s - loss: 1.6186e-04\n",
      "Epoch 92/100\n",
      " - 10s - loss: 1.7069e-04\n",
      "Epoch 93/100\n",
      " - 11s - loss: 1.6422e-04\n",
      "Epoch 94/100\n",
      " - 10s - loss: 1.6163e-04\n",
      "Epoch 95/100\n",
      " - 8s - loss: 1.6028e-04\n",
      "Epoch 96/100\n",
      " - 9s - loss: 1.6321e-04\n",
      "Epoch 97/100\n",
      " - 10s - loss: 1.5831e-04\n",
      "Epoch 98/100\n",
      " - 9s - loss: 1.6219e-04\n",
      "Epoch 99/100\n",
      " - 11s - loss: 1.5826e-04\n",
      "Epoch 100/100\n",
      " - 11s - loss: 1.6050e-04\n"
     ]
    },
    {
     "data": {
      "text/plain": [
       "<keras.callbacks.callbacks.History at 0x221e1377ba8>"
      ]
     },
     "execution_count": 69,
     "metadata": {},
     "output_type": "execute_result"
    }
   ],
   "source": [
    "model = Sequential()\n",
    "model.add(LSTM(128,activation=\"sigmoid\",input_shape=(1,1)))\n",
    "model.add(Dropout(0.2))\n",
    "model.add(Dense(1))\n",
    "model.compile(loss='mean_squared_error', optimizer='adam')\n",
    "model.fit(X_train, y_train, epochs=100, batch_size=50, verbose=2)"
   ]
  },
  {
   "cell_type": "code",
   "execution_count": 70,
   "metadata": {},
   "outputs": [
    {
     "name": "stdout",
     "output_type": "stream",
     "text": [
      "Model: \"sequential_1\"\n",
      "_________________________________________________________________\n",
      "Layer (type)                 Output Shape              Param #   \n",
      "=================================================================\n",
      "lstm_1 (LSTM)                (None, 128)               66560     \n",
      "_________________________________________________________________\n",
      "dropout_1 (Dropout)          (None, 128)               0         \n",
      "_________________________________________________________________\n",
      "dense_1 (Dense)              (None, 1)                 129       \n",
      "=================================================================\n",
      "Total params: 66,689\n",
      "Trainable params: 66,689\n",
      "Non-trainable params: 0\n",
      "_________________________________________________________________\n"
     ]
    }
   ],
   "source": [
    "model.summary()"
   ]
  },
  {
   "cell_type": "code",
   "execution_count": 71,
   "metadata": {},
   "outputs": [],
   "source": [
    "# Making the predictions\n",
    "test_set = data_test.values\n",
    "inputs = np.reshape(test_set, (len(test_set), 1))\n",
    "inputs = sc.transform(inputs)\n",
    "inputs = np.reshape(inputs, (len(inputs), 1, 1))\n",
    "predicted_close = model.predict(inputs)\n",
    "predicted_close = sc.inverse_transform(predicted_close)"
   ]
  },
  {
   "cell_type": "code",
   "execution_count": 72,
   "metadata": {},
   "outputs": [],
   "source": [
    "data_test['close_prediction'] = predicted_close\n",
    "data_all = pd.concat([data_test, data_train], sort=False)"
   ]
  },
  {
   "cell_type": "code",
   "execution_count": 74,
   "metadata": {},
   "outputs": [
    {
     "ename": "KeyError",
     "evalue": "\"['lstm'] not in index\"",
     "output_type": "error",
     "traceback": [
      "\u001b[1;31m---------------------------------------------------------------------------\u001b[0m",
      "\u001b[1;31mKeyError\u001b[0m                                  Traceback (most recent call last)",
      "\u001b[1;32m<ipython-input-74-b0d7dd1e4c49>\u001b[0m in \u001b[0;36m<module>\u001b[1;34m\u001b[0m\n\u001b[0;32m      3\u001b[0m \u001b[0mfinal_data\u001b[0m \u001b[1;33m=\u001b[0m \u001b[0mfinal_data\u001b[0m\u001b[1;33m.\u001b[0m\u001b[0mreset_index\u001b[0m\u001b[1;33m(\u001b[0m\u001b[1;33m)\u001b[0m\u001b[1;33m\u001b[0m\u001b[1;33m\u001b[0m\u001b[0m\n\u001b[0;32m      4\u001b[0m \u001b[0mfinal_data\u001b[0m \u001b[1;33m=\u001b[0m \u001b[0mfinal_data\u001b[0m\u001b[1;33m.\u001b[0m\u001b[0mrename\u001b[0m\u001b[1;33m(\u001b[0m\u001b[0mcolumns\u001b[0m\u001b[1;33m=\u001b[0m\u001b[1;33m{\u001b[0m\u001b[1;34m'close_Prediction'\u001b[0m\u001b[1;33m:\u001b[0m \u001b[1;34m'lstm'\u001b[0m\u001b[1;33m}\u001b[0m\u001b[1;33m)\u001b[0m\u001b[1;33m\u001b[0m\u001b[1;33m\u001b[0m\u001b[0m\n\u001b[1;32m----> 5\u001b[1;33m \u001b[0mfinal_data\u001b[0m \u001b[1;33m=\u001b[0m \u001b[0mfinal_data\u001b[0m\u001b[1;33m[\u001b[0m\u001b[1;33m[\u001b[0m\u001b[1;34m'date'\u001b[0m\u001b[1;33m,\u001b[0m\u001b[1;34m'close'\u001b[0m\u001b[1;33m,\u001b[0m\u001b[1;34m'lstm'\u001b[0m\u001b[1;33m]\u001b[0m\u001b[1;33m]\u001b[0m\u001b[1;33m\u001b[0m\u001b[1;33m\u001b[0m\u001b[0m\n\u001b[0m",
      "\u001b[1;32m~\\Documents\\Anaconda\\lib\\site-packages\\pandas\\core\\frame.py\u001b[0m in \u001b[0;36m__getitem__\u001b[1;34m(self, key)\u001b[0m\n\u001b[0;32m   2932\u001b[0m                 \u001b[0mkey\u001b[0m \u001b[1;33m=\u001b[0m \u001b[0mlist\u001b[0m\u001b[1;33m(\u001b[0m\u001b[0mkey\u001b[0m\u001b[1;33m)\u001b[0m\u001b[1;33m\u001b[0m\u001b[1;33m\u001b[0m\u001b[0m\n\u001b[0;32m   2933\u001b[0m             indexer = self.loc._convert_to_indexer(key, axis=1,\n\u001b[1;32m-> 2934\u001b[1;33m                                                    raise_missing=True)\n\u001b[0m\u001b[0;32m   2935\u001b[0m \u001b[1;33m\u001b[0m\u001b[0m\n\u001b[0;32m   2936\u001b[0m         \u001b[1;31m# take() does not accept boolean indexers\u001b[0m\u001b[1;33m\u001b[0m\u001b[1;33m\u001b[0m\u001b[1;33m\u001b[0m\u001b[0m\n",
      "\u001b[1;32m~\\Documents\\Anaconda\\lib\\site-packages\\pandas\\core\\indexing.py\u001b[0m in \u001b[0;36m_convert_to_indexer\u001b[1;34m(self, obj, axis, is_setter, raise_missing)\u001b[0m\n\u001b[0;32m   1352\u001b[0m                 kwargs = {'raise_missing': True if is_setter else\n\u001b[0;32m   1353\u001b[0m                           raise_missing}\n\u001b[1;32m-> 1354\u001b[1;33m                 \u001b[1;32mreturn\u001b[0m \u001b[0mself\u001b[0m\u001b[1;33m.\u001b[0m\u001b[0m_get_listlike_indexer\u001b[0m\u001b[1;33m(\u001b[0m\u001b[0mobj\u001b[0m\u001b[1;33m,\u001b[0m \u001b[0maxis\u001b[0m\u001b[1;33m,\u001b[0m \u001b[1;33m**\u001b[0m\u001b[0mkwargs\u001b[0m\u001b[1;33m)\u001b[0m\u001b[1;33m[\u001b[0m\u001b[1;36m1\u001b[0m\u001b[1;33m]\u001b[0m\u001b[1;33m\u001b[0m\u001b[1;33m\u001b[0m\u001b[0m\n\u001b[0m\u001b[0;32m   1355\u001b[0m         \u001b[1;32melse\u001b[0m\u001b[1;33m:\u001b[0m\u001b[1;33m\u001b[0m\u001b[1;33m\u001b[0m\u001b[0m\n\u001b[0;32m   1356\u001b[0m             \u001b[1;32mtry\u001b[0m\u001b[1;33m:\u001b[0m\u001b[1;33m\u001b[0m\u001b[1;33m\u001b[0m\u001b[0m\n",
      "\u001b[1;32m~\\Documents\\Anaconda\\lib\\site-packages\\pandas\\core\\indexing.py\u001b[0m in \u001b[0;36m_get_listlike_indexer\u001b[1;34m(self, key, axis, raise_missing)\u001b[0m\n\u001b[0;32m   1159\u001b[0m         self._validate_read_indexer(keyarr, indexer,\n\u001b[0;32m   1160\u001b[0m                                     \u001b[0mo\u001b[0m\u001b[1;33m.\u001b[0m\u001b[0m_get_axis_number\u001b[0m\u001b[1;33m(\u001b[0m\u001b[0maxis\u001b[0m\u001b[1;33m)\u001b[0m\u001b[1;33m,\u001b[0m\u001b[1;33m\u001b[0m\u001b[1;33m\u001b[0m\u001b[0m\n\u001b[1;32m-> 1161\u001b[1;33m                                     raise_missing=raise_missing)\n\u001b[0m\u001b[0;32m   1162\u001b[0m         \u001b[1;32mreturn\u001b[0m \u001b[0mkeyarr\u001b[0m\u001b[1;33m,\u001b[0m \u001b[0mindexer\u001b[0m\u001b[1;33m\u001b[0m\u001b[1;33m\u001b[0m\u001b[0m\n\u001b[0;32m   1163\u001b[0m \u001b[1;33m\u001b[0m\u001b[0m\n",
      "\u001b[1;32m~\\Documents\\Anaconda\\lib\\site-packages\\pandas\\core\\indexing.py\u001b[0m in \u001b[0;36m_validate_read_indexer\u001b[1;34m(self, key, indexer, axis, raise_missing)\u001b[0m\n\u001b[0;32m   1250\u001b[0m             \u001b[1;32mif\u001b[0m \u001b[1;32mnot\u001b[0m\u001b[1;33m(\u001b[0m\u001b[0mself\u001b[0m\u001b[1;33m.\u001b[0m\u001b[0mname\u001b[0m \u001b[1;33m==\u001b[0m \u001b[1;34m'loc'\u001b[0m \u001b[1;32mand\u001b[0m \u001b[1;32mnot\u001b[0m \u001b[0mraise_missing\u001b[0m\u001b[1;33m)\u001b[0m\u001b[1;33m:\u001b[0m\u001b[1;33m\u001b[0m\u001b[1;33m\u001b[0m\u001b[0m\n\u001b[0;32m   1251\u001b[0m                 \u001b[0mnot_found\u001b[0m \u001b[1;33m=\u001b[0m \u001b[0mlist\u001b[0m\u001b[1;33m(\u001b[0m\u001b[0mset\u001b[0m\u001b[1;33m(\u001b[0m\u001b[0mkey\u001b[0m\u001b[1;33m)\u001b[0m \u001b[1;33m-\u001b[0m \u001b[0mset\u001b[0m\u001b[1;33m(\u001b[0m\u001b[0max\u001b[0m\u001b[1;33m)\u001b[0m\u001b[1;33m)\u001b[0m\u001b[1;33m\u001b[0m\u001b[1;33m\u001b[0m\u001b[0m\n\u001b[1;32m-> 1252\u001b[1;33m                 \u001b[1;32mraise\u001b[0m \u001b[0mKeyError\u001b[0m\u001b[1;33m(\u001b[0m\u001b[1;34m\"{} not in index\"\u001b[0m\u001b[1;33m.\u001b[0m\u001b[0mformat\u001b[0m\u001b[1;33m(\u001b[0m\u001b[0mnot_found\u001b[0m\u001b[1;33m)\u001b[0m\u001b[1;33m)\u001b[0m\u001b[1;33m\u001b[0m\u001b[1;33m\u001b[0m\u001b[0m\n\u001b[0m\u001b[0;32m   1253\u001b[0m \u001b[1;33m\u001b[0m\u001b[0m\n\u001b[0;32m   1254\u001b[0m             \u001b[1;31m# we skip the warning on Categorical/Interval\u001b[0m\u001b[1;33m\u001b[0m\u001b[1;33m\u001b[0m\u001b[1;33m\u001b[0m\u001b[0m\n",
      "\u001b[1;31mKeyError\u001b[0m: \"['lstm'] not in index\""
     ]
    }
   ],
   "source": [
    "#saving the predicted values in a common data frame for future comparision\n",
    "final_data = data_all\n",
    "final_data = final_data.reset_index()\n",
    "final_data = final_data.rename(columns={'close_Prediction': 'lstm'})\n",
    "final_data = final_data[['date','close','lstm']]"
   ]
  },
  {
   "cell_type": "code",
   "execution_count": 75,
   "metadata": {},
   "outputs": [
    {
     "data": {
      "image/png": "[encoded data removed]",
      "text/plain": [
       "<Figure size 1080x360 with 1 Axes>"
      ]
     },
     "metadata": {
      "needs_background": "light"
     },
     "output_type": "display_data"
    }
   ],
   "source": [
    "_ = data_all[['close','close_prediction']].plot(figsize=(15, 5))"
   ]
  },
  {
   "cell_type": "code",
   "execution_count": 77,
   "metadata": {},
   "outputs": [
    {
     "data": {
      "text/plain": [
       "60203.711708872266"
      ]
     },
     "execution_count": 77,
     "metadata": {},
     "output_type": "execute_result"
    }
   ],
   "source": [
    "#calculate MSE\n",
    "from sklearn.metrics import mean_squared_error, mean_absolute_error\n",
    "mean_squared_error(y_true=data_test['close'],\n",
    "                   y_pred=data_test['close_prediction'])"
   ]
  },
  {
   "cell_type": "code",
   "execution_count": 81,
   "metadata": {},
   "outputs": [
    {
     "name": "stdout",
     "output_type": "stream",
     "text": [
      "[70.96004719]\n"
     ]
    }
   ],
   "source": [
    "# MA example\n",
    "from statsmodels.tsa.arima_model import ARMA\n",
    "from random import random\n",
    "# contrived dataset\n",
    "data = [x + random() for x in range(1, 100)]\n",
    "# fit model\n",
    "model = ARMA(data, order=(0, 1))\n",
    "model_fit = model.fit(disp=False)\n",
    "# make prediction\n",
    "yhat = model_fit.predict(len(data), len(data))\n",
    "print(yhat)"
   ]
  },
  {
   "cell_type": "code",
   "execution_count": null,
   "metadata": {},
   "outputs": [],
   "source": []
  }
 ],
 "metadata": {
  "kernelspec": {
   "display_name": "Python 3",
   "language": "python",
   "name": "python3"
  },
  "language_info": {
   "codemirror_mode": {
    "name": "ipython",
    "version": 3
   },
   "file_extension": ".py",
   "mimetype": "text/x-python",
   "name": "python",
   "nbconvert_exporter": "python",
   "pygments_lexer": "ipython3",
   "version": "3.7.3"
  }
 },
 "nbformat": 4,
 "nbformat_minor": 2
}
